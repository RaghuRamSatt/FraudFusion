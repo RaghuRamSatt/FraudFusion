{
 "cells": [
  {
   "cell_type": "code",
   "execution_count": 2,
   "metadata": {},
   "outputs": [],
   "source": [
    "import pandas as pd\n",
    "import numpy as np\n",
    "import matplotlib.pyplot as plt\n",
    "import seaborn as sns\n",
    "\n",
    "# Loading the data\n",
    "data_df = pd.read_csv(r'Data\\FraudECommerce\\Fraud_Data.csv')\n",
    "ip_country_df = pd.read_csv(r'Data\\FraudECommerce\\IpAddress_to_Country.csv')"
   ]
  },
  {
   "cell_type": "code",
   "execution_count": 5,
   "metadata": {},
   "outputs": [
    {
     "name": "stdout",
     "output_type": "stream",
     "text": [
      "Available columns:\n",
      "['user_id', 'signup_time', 'purchase_time', 'purchase_value', 'device_id', 'source', 'browser', 'sex', 'age', 'ip_address', 'class']\n",
      "\n",
      "First few rows of the dataset:\n",
      "   user_id         signup_time       purchase_time  purchase_value  \\\n",
      "0    22058 2015-02-24 22:55:49 2015-04-18 02:47:11              34   \n",
      "1   333320 2015-06-07 20:39:50 2015-06-08 01:38:54              16   \n",
      "2     1359 2015-01-01 18:52:44 2015-01-01 18:52:45              15   \n",
      "3   150084 2015-04-28 21:13:25 2015-05-04 13:54:50              44   \n",
      "4   221365 2015-07-21 07:09:52 2015-09-09 18:40:53              39   \n",
      "\n",
      "       device_id source browser sex  age    ip_address  class  \n",
      "0  QVPSPJUOCKZAR    SEO  Chrome   M   39  7.327584e+08      0  \n",
      "1  EOGFQPIZPYXFZ    Ads  Chrome   F   53  3.503114e+08      0  \n",
      "2  YSSKYOSJHPPLJ    SEO   Opera   M   53  2.621474e+09      1  \n",
      "3  ATGTXKYKUDUQN    SEO  Safari   M   41  3.840542e+09      0  \n",
      "4  NAUITBZFJKHWW    Ads  Safari   M   45  4.155831e+08      0  \n"
     ]
    }
   ],
   "source": [
    "# Print column names\n",
    "print(\"Available columns:\")\n",
    "print(data_df.columns.tolist())\n",
    "\n",
    "# Let's also look at the first few rows\n",
    "print(\"\\nFirst few rows of the dataset:\")\n",
    "print(data_df.head())"
   ]
  },
  {
   "cell_type": "code",
   "execution_count": 6,
   "metadata": {},
   "outputs": [
    {
     "name": "stdout",
     "output_type": "stream",
     "text": [
      "FRAUD ECOMMERCE DATASET ANALYSIS:\n",
      "\n",
      "1. Data Leakage Considerations:\n",
      "Key Findings:\n",
      "✓ Temporal range: 2015-01-01 00:00:42 to 2015-12-16 02:56:05\n",
      "! Device id overlap: 137,956 unique devices\n",
      "! IP address overlap: 143,512 unique IPs\n",
      "! User overlap: 151,112 unique users\n"
     ]
    }
   ],
   "source": [
    "print(\"FRAUD ECOMMERCE DATASET ANALYSIS:\")\n",
    "\n",
    "# 1. Data Leakage Considerations:\n",
    "print(\"\\n1. Data Leakage Considerations:\")\n",
    "print(\"Key Findings:\")\n",
    "data_df['signup_time'] = pd.to_datetime(data_df['signup_time'])\n",
    "data_df['purchase_time'] = pd.to_datetime(data_df['purchase_time'])\n",
    "\n",
    "print(f\"✓ Temporal range: {data_df['signup_time'].min()} to {data_df['purchase_time'].max()}\")\n",
    "print(f\"! Device id overlap: {data_df['device_id'].nunique():,} unique devices\")\n",
    "print(f\"! IP address overlap: {data_df['ip_address'].nunique():,} unique IPs\")\n",
    "print(f\"! User overlap: {data_df['user_id'].nunique():,} unique users\")"
   ]
  },
  {
   "cell_type": "code",
   "execution_count": 7,
   "metadata": {},
   "outputs": [
    {
     "name": "stdout",
     "output_type": "stream",
     "text": [
      "\n",
      "2. Target Variable Analysis:\n",
      "Current Distribution:\n",
      "- Non-Fraud (0): 90.64%\n",
      "- Fraud (1): 9.36%\n"
     ]
    }
   ],
   "source": [
    "# 2. Target Variable Analysis\n",
    "fraud_dist = data_df['class'].value_counts(normalize=True)\n",
    "print(\"\\n2. Target Variable Analysis:\")\n",
    "print(\"Current Distribution:\")\n",
    "print(f\"- Non-Fraud (0): {fraud_dist[0]:.2%}\")\n",
    "print(f\"- Fraud (1): {fraud_dist[1]:.2%}\")"
   ]
  },
  {
   "cell_type": "code",
   "execution_count": 8,
   "metadata": {},
   "outputs": [
    {
     "name": "stdout",
     "output_type": "stream",
     "text": [
      "\n",
      "3. Feature Considerations for Diffusion:\n",
      "Temporal Features:\n",
      "- signup_time: Account creation timestamp\n",
      "- purchase_time: Transaction timestamp\n",
      "\n",
      "Numerical Features:\n",
      "- purchase_value: Key fraud indicator\n",
      "- age: User demographic information\n",
      "\n",
      "Categorical Features:\n",
      "- source: User acquisition channel\n",
      "- browser: User's web browser\n",
      "- sex: User's gender\n",
      "- device_id: User's device identifier\n",
      "- ip_address: Can be mapped to location using provided mapping\n"
     ]
    }
   ],
   "source": [
    "# 3. Feature Analysis\n",
    "print(\"\\n3. Feature Considerations for Diffusion:\")\n",
    "print(\"Temporal Features:\")\n",
    "print(\"- signup_time: Account creation timestamp\")\n",
    "print(\"- purchase_time: Transaction timestamp\")\n",
    "print(\"\\nNumerical Features:\")\n",
    "print(\"- purchase_value: Key fraud indicator\")\n",
    "print(\"- age: User demographic information\")\n",
    "print(\"\\nCategorical Features:\")\n",
    "print(\"- source: User acquisition channel\")\n",
    "print(\"- browser: User's web browser\")\n",
    "print(\"- sex: User's gender\")\n",
    "print(\"- device_id: User's device identifier\")\n",
    "print(\"- ip_address: Can be mapped to location using provided mapping\")"
   ]
  },
  {
   "cell_type": "code",
   "execution_count": 9,
   "metadata": {},
   "outputs": [
    {
     "name": "stdout",
     "output_type": "stream",
     "text": [
      "\n",
      "4. Validation Strategy for Generated Data:\n",
      "Recommended Metrics:\n",
      "- Distribution similarity to real fraud cases\n",
      "- Temporal pattern preservation (signup to purchase time gaps)\n",
      "- Transaction value realism within age groups\n",
      "- Device-IP-User relationship coherence\n",
      "- Demographic pattern preservation (age, sex distributions)\n"
     ]
    }
   ],
   "source": [
    "# 4. Validation Strategy\n",
    "print(\"\\n4. Validation Strategy for Generated Data:\")\n",
    "print(\"Recommended Metrics:\")\n",
    "print(\"- Distribution similarity to real fraud cases\")\n",
    "print(\"- Temporal pattern preservation (signup to purchase time gaps)\")\n",
    "print(\"- Transaction value realism within age groups\")\n",
    "print(\"- Device-IP-User relationship coherence\")\n",
    "print(\"- Demographic pattern preservation (age, sex distributions)\")"
   ]
  },
  {
   "cell_type": "code",
   "execution_count": 10,
   "metadata": {},
   "outputs": [
    {
     "name": "stdout",
     "output_type": "stream",
     "text": [
      "\n",
      "5. Strengths for Diffusion Project:\n",
      "✓ Rich user demographics (age, sex)\n",
      "✓ Multiple temporal dimensions (signup and purchase)\n",
      "✓ Behavioral features (browser, source)\n",
      "✓ Device and IP tracking\n"
     ]
    }
   ],
   "source": [
    "# 5. Strengths for Diffusion Project\n",
    "print(\"\\n5. Strengths for Diffusion Project:\")\n",
    "print(\"✓ Rich user demographics (age, sex)\")\n",
    "print(\"✓ Multiple temporal dimensions (signup and purchase)\")\n",
    "print(\"✓ Behavioral features (browser, source)\")\n",
    "print(\"✓ Device and IP tracking\")"
   ]
  },
  {
   "cell_type": "code",
   "execution_count": 11,
   "metadata": {},
   "outputs": [
    {
     "name": "stdout",
     "output_type": "stream",
     "text": [
      "\n",
      "6. Challenges to Address:\n",
      "! Maintaining realistic time gaps between signup and purchase\n",
      "! Preserving user-device-IP relationships\n",
      "! Ensuring generated fraud cases match demographic patterns\n",
      "! Creating plausible user behavior patterns\n"
     ]
    }
   ],
   "source": [
    "# 6. Challenges to Address\n",
    "print(\"\\n6. Challenges to Address:\")\n",
    "print(\"! Maintaining realistic time gaps between signup and purchase\")\n",
    "print(\"! Preserving user-device-IP relationships\")\n",
    "print(\"! Ensuring generated fraud cases match demographic patterns\")\n",
    "print(\"! Creating plausible user behavior patterns\")"
   ]
  },
  {
   "cell_type": "code",
   "execution_count": 12,
   "metadata": {},
   "outputs": [
    {
     "name": "stdout",
     "output_type": "stream",
     "text": [
      "\n",
      "Key Statistics:\n",
      "Total transactions: 151,112\n",
      "Unique users: 151,112\n",
      "Unique devices: 137,956\n",
      "Unique IP addresses: 143,512\n",
      "Average purchase value: $36.94\n",
      "Age range: 18 to 76 years\n",
      "Time range: 349 days\n"
     ]
    }
   ],
   "source": [
    "# Additional statistics for context\n",
    "print(\"\\nKey Statistics:\")\n",
    "print(f\"Total transactions: {len(data_df):,}\")\n",
    "print(f\"Unique users: {data_df['user_id'].nunique():,}\")\n",
    "print(f\"Unique devices: {data_df['device_id'].nunique():,}\")\n",
    "print(f\"Unique IP addresses: {data_df['ip_address'].nunique():,}\")\n",
    "print(f\"Average purchase value: ${data_df['purchase_value'].mean():.2f}\")\n",
    "print(f\"Age range: {data_df['age'].min()} to {data_df['age'].max()} years\")\n",
    "print(f\"Time range: {(data_df['purchase_time'].max() - data_df['signup_time'].min()).days} days\")"
   ]
  },
  {
   "cell_type": "code",
   "execution_count": 13,
   "metadata": {},
   "outputs": [
    {
     "name": "stdout",
     "output_type": "stream",
     "text": [
      "\n",
      "Source Distribution:\n",
      "source\n",
      "SEO       0.401126\n",
      "Ads       0.396269\n",
      "Direct    0.202605\n"
     ]
    }
   ],
   "source": [
    "# Source distribution\n",
    "print(\"\\nSource Distribution:\")\n",
    "print(data_df['source'].value_counts(normalize=True).to_string())"
   ]
  },
  {
   "cell_type": "code",
   "execution_count": 14,
   "metadata": {},
   "outputs": [
    {
     "name": "stdout",
     "output_type": "stream",
     "text": [
      "\n",
      "Browser Distribution:\n",
      "browser\n",
      "Chrome     0.406533\n",
      "IE         0.243045\n",
      "Safari     0.163237\n",
      "FireFox    0.162859\n",
      "Opera      0.024326\n"
     ]
    }
   ],
   "source": [
    "\n",
    "# Browser distribution\n",
    "print(\"\\nBrowser Distribution:\")\n",
    "print(data_df['browser'].value_counts(normalize=True).to_string())"
   ]
  },
  {
   "cell_type": "code",
   "execution_count": 15,
   "metadata": {},
   "outputs": [
    {
     "name": "stdout",
     "output_type": "stream",
     "text": [
      "\n",
      "FRAUD PATTERN INSIGHTS:\n"
     ]
    },
    {
     "data": {
      "image/png": "[encoded data removed]",
      "text/plain": [
       "<Figure size 1500x500 with 3 Axes>"
      ]
     },
     "metadata": {},
     "output_type": "display_data"
    }
   ],
   "source": [
    "# Additional Fraud Pattern Analysis\n",
    "print(\"\\nFRAUD PATTERN INSIGHTS:\")\n",
    "\n",
    "# 1. Purchase Value Analysis by Fraud\n",
    "plt.figure(figsize=(15, 5))\n",
    "\n",
    "# Purchase value distribution\n",
    "plt.subplot(1, 3, 1)\n",
    "sns.boxplot(x='class', y='purchase_value', data=data_df)\n",
    "plt.title('Purchase Value by Fraud Status')\n",
    "plt.xlabel('Fraud (1) vs Non-Fraud (0)')\n",
    "\n",
    "# Age distribution\n",
    "plt.subplot(1, 3, 2)\n",
    "sns.boxplot(x='class', y='age', data=data_df)\n",
    "plt.title('Age Distribution by Fraud Status')\n",
    "plt.xlabel('Fraud (1) vs Non-Fraud (0)')\n",
    "\n",
    "# Time gap analysis\n",
    "data_df['signup_to_purchase_minutes'] = (data_df['purchase_time'] - data_df['signup_time']).dt.total_seconds() / 60\n",
    "\n",
    "plt.subplot(1, 3, 3)\n",
    "sns.boxplot(x='class', y='signup_to_purchase_minutes', data=data_df)\n",
    "plt.title('Signup to Purchase Time (minutes) by Fraud Status')\n",
    "plt.xlabel('Fraud (1) vs Non-Fraud (0)')\n",
    "plt.yscale('log')\n",
    "plt.show()\n"
   ]
  },
  {
   "cell_type": "code",
   "execution_count": 16,
   "metadata": {},
   "outputs": [
    {
     "name": "stdout",
     "output_type": "stream",
     "text": [
      "\n",
      "Fraud Rates by Category:\n",
      "\n",
      "Fraud Rate by Source:\n",
      "source\n",
      "Direct    10.54%\n",
      "Ads        9.21%\n",
      "SEO        8.93%\n",
      "\n",
      "Fraud Rate by Browser:\n",
      "browser\n",
      "Chrome     9.88%\n",
      "FireFox    9.52%\n",
      "Safari     9.02%\n",
      "Opera      8.92%\n",
      "IE         8.68%\n",
      "\n",
      "Fraud Rate by Gender:\n",
      "sex\n",
      "M    9.55%\n",
      "F    9.10%\n"
     ]
    }
   ],
   "source": [
    "# 2. Fraud Rates Analysis\n",
    "print(\"\\nFraud Rates by Category:\")\n",
    "\n",
    "# Source fraud rates\n",
    "source_fraud = data_df.groupby('source')['class'].mean().sort_values(ascending=False)\n",
    "print(\"\\nFraud Rate by Source:\")\n",
    "print(source_fraud.apply(lambda x: f\"{x:.2%}\").to_string())\n",
    "\n",
    "# Browser fraud rates\n",
    "browser_fraud = data_df.groupby('browser')['class'].mean().sort_values(ascending=False)\n",
    "print(\"\\nFraud Rate by Browser:\")\n",
    "print(browser_fraud.apply(lambda x: f\"{x:.2%}\").to_string())\n",
    "\n",
    "# Gender fraud rates\n",
    "gender_fraud = data_df.groupby('sex')['class'].mean().sort_values(ascending=False)\n",
    "print(\"\\nFraud Rate by Gender:\")\n",
    "print(gender_fraud.apply(lambda x: f\"{x:.2%}\").to_string())\n"
   ]
  },
  {
   "cell_type": "code",
   "execution_count": 17,
   "metadata": {},
   "outputs": [
    {
     "data": {
      "image/png": "[encoded data removed]",
      "text/plain": [
       "<Figure size 1200x400 with 1 Axes>"
      ]
     },
     "metadata": {},
     "output_type": "display_data"
    }
   ],
   "source": [
    "# 3. Time-based Patterns\n",
    "data_df['hour'] = data_df['purchase_time'].dt.hour\n",
    "hourly_fraud = data_df.groupby('hour')['class'].mean()\n",
    "\n",
    "plt.figure(figsize=(12, 4))\n",
    "hourly_fraud.plot(kind='line', marker='o')\n",
    "plt.title('Fraud Rate by Hour of Day')\n",
    "plt.xlabel('Hour')\n",
    "plt.ylabel('Fraud Rate')\n",
    "plt.grid(True)\n",
    "plt.show()"
   ]
  },
  {
   "cell_type": "code",
   "execution_count": 18,
   "metadata": {},
   "outputs": [
    {
     "name": "stdout",
     "output_type": "stream",
     "text": [
      "\n",
      "Summary Statistics by Fraud Status:\n",
      "      purchase_value                    age               signup_to_purchase_minutes                           \n",
      "                mean    std min  max   mean   std min max                       mean       std   min        max\n",
      "class                                                                                                          \n",
      "0              36.93  18.32   9  154  33.12  8.62  18  76                   86519.64  49809.81  2.28  172799.53\n",
      "1              36.99  18.40   9  111  33.32  8.57  18  68                   40397.37  55229.81  0.02  172732.45\n"
     ]
    }
   ],
   "source": [
    "# 4. Summary Statistics for Fraud vs Non-Fraud\n",
    "print(\"\\nSummary Statistics by Fraud Status:\")\n",
    "fraud_summary = data_df.groupby('class').agg({\n",
    "    'purchase_value': ['mean', 'std', 'min', 'max'],\n",
    "    'age': ['mean', 'std', 'min', 'max'],\n",
    "    'signup_to_purchase_minutes': ['mean', 'std', 'min', 'max']\n",
    "}).round(2)\n",
    "print(fraud_summary.to_string())"
   ]
  },
  {
   "cell_type": "code",
   "execution_count": 19,
   "metadata": {},
   "outputs": [
    {
     "name": "stdout",
     "output_type": "stream",
     "text": [
      "\n",
      "Device and IP Fraud Patterns:\n",
      "Devices used in multiple frauds: 1044\n",
      "IPs used in multiple frauds: 759\n"
     ]
    }
   ],
   "source": [
    "# 5. Device and IP Reuse Patterns\n",
    "device_fraud_count = data_df.groupby('device_id')['class'].sum()\n",
    "ip_fraud_count = data_df.groupby('ip_address')['class'].sum()\n",
    "\n",
    "print(\"\\nDevice and IP Fraud Patterns:\")\n",
    "print(f\"Devices used in multiple frauds: {len(device_fraud_count[device_fraud_count > 1])}\")\n",
    "print(f\"IPs used in multiple frauds: {len(ip_fraud_count[ip_fraud_count > 1])}\")"
   ]
  },
  {
   "cell_type": "code",
   "execution_count": 20,
   "metadata": {},
   "outputs": [
    {
     "name": "stdout",
     "output_type": "stream",
     "text": [
      "\n",
      "REVISED CHALLENGES TO ADDRESS:\n",
      "! Maintaining realistic time gaps between signup and purchase\n",
      "! Preserving user-device-IP relationships\n",
      "! Ensuring generated fraud cases match demographic patterns\n",
      "! Creating plausible user behavior patterns\n",
      "! Replicating source and browser fraud rate patterns\n",
      "! Preserving temporal fraud patterns by hour\n",
      "! Maintaining realistic device and IP reuse patterns\n"
     ]
    }
   ],
   "source": [
    "# Update Challenges section based on findings\n",
    "print(\"\\nREVISED CHALLENGES TO ADDRESS:\")\n",
    "print(\"! Maintaining realistic time gaps between signup and purchase\")\n",
    "print(\"! Preserving user-device-IP relationships\")\n",
    "print(\"! Ensuring generated fraud cases match demographic patterns\")\n",
    "print(\"! Creating plausible user behavior patterns\")\n",
    "print(\"! Replicating source and browser fraud rate patterns\")\n",
    "print(\"! Preserving temporal fraud patterns by hour\")\n",
    "print(\"! Maintaining realistic device and IP reuse patterns\")"
   ]
  },
  {
   "cell_type": "code",
   "execution_count": 21,
   "metadata": {},
   "outputs": [
    {
     "name": "stdout",
     "output_type": "stream",
     "text": [
      "KEY INSIGHTS FOR DIFFUSION MODEL DEVELOPMENT:\n",
      "\n",
      "1. Class Imbalance Characteristics:\n",
      "- Overall fraud rate: ~9.4% (much higher than Sparkov's 0.52%)\n",
      "- More balanced dataset, but still requires synthetic data generation\n",
      "\n",
      "2. Pattern Preservation Requirements:\n",
      "Purchase Values:\n",
      "- Similar distributions between fraud/non-fraud (mean: $36.99 vs $36.93)\n",
      "- Similar variance (std: 18.40 vs 18.32)\n",
      "- Fraud transactions capped at $111 (vs $154 for non-fraud)\n",
      "\n",
      "Temporal Patterns:\n",
      "- Fraud cases show faster purchase after signup (mean: ~28 days vs ~60 days)\n",
      "- High variance in time gaps for both classes\n",
      "- Some fraud cases occur almost immediately after signup (0.02 minutes)\n",
      "\n",
      "Demographic Patterns:\n",
      "- Age distributions nearly identical (mean: 33.32 vs 33.12)\n",
      "- Slight male bias in fraud (9.55% vs 9.10% for females)\n",
      "- Fraud age range more concentrated (18-68 vs 18-76)\n",
      "\n",
      "3. Critical Relationships to Maintain:\n",
      "Channel-specific fraud rates:\n",
      "- Direct: Highest risk (10.54%)\n",
      "- Ads: Medium risk (9.21%)\n",
      "- SEO: Lowest risk (8.93%)\n",
      "\n",
      "Device/IP Patterns:\n",
      "- 1,044 devices used in multiple frauds\n",
      "- 759 IPs used in multiple frauds\n",
      "- Need to maintain realistic reuse patterns\n",
      "\n",
      "4. Validation Priorities:\n",
      "1. Purchase value distribution matching\n",
      "2. Realistic signup-to-purchase gaps\n",
      "3. Channel-specific fraud rates\n",
      "4. Device/IP reuse patterns\n",
      "5. Demographic consistency\n"
     ]
    }
   ],
   "source": [
    "print(\"KEY INSIGHTS FOR DIFFUSION MODEL DEVELOPMENT:\")\n",
    "\n",
    "print(\"\\n1. Class Imbalance Characteristics:\")\n",
    "print(\"- Overall fraud rate: ~9.4% (much higher than Sparkov's 0.52%)\")\n",
    "print(\"- More balanced dataset, but still requires synthetic data generation\")\n",
    "\n",
    "print(\"\\n2. Pattern Preservation Requirements:\")\n",
    "print(\"Purchase Values:\")\n",
    "print(\"- Similar distributions between fraud/non-fraud (mean: $36.99 vs $36.93)\")\n",
    "print(\"- Similar variance (std: 18.40 vs 18.32)\")\n",
    "print(\"- Fraud transactions capped at $111 (vs $154 for non-fraud)\")\n",
    "\n",
    "print(\"\\nTemporal Patterns:\")\n",
    "print(\"- Fraud cases show faster purchase after signup (mean: ~28 days vs ~60 days)\")\n",
    "print(\"- High variance in time gaps for both classes\")\n",
    "print(\"- Some fraud cases occur almost immediately after signup (0.02 minutes)\")\n",
    "\n",
    "print(\"\\nDemographic Patterns:\")\n",
    "print(\"- Age distributions nearly identical (mean: 33.32 vs 33.12)\")\n",
    "print(\"- Slight male bias in fraud (9.55% vs 9.10% for females)\")\n",
    "print(\"- Fraud age range more concentrated (18-68 vs 18-76)\")\n",
    "\n",
    "print(\"\\n3. Critical Relationships to Maintain:\")\n",
    "print(\"Channel-specific fraud rates:\")\n",
    "print(\"- Direct: Highest risk (10.54%)\")\n",
    "print(\"- Ads: Medium risk (9.21%)\")\n",
    "print(\"- SEO: Lowest risk (8.93%)\")\n",
    "\n",
    "print(\"\\nDevice/IP Patterns:\")\n",
    "print(\"- 1,044 devices used in multiple frauds\")\n",
    "print(\"- 759 IPs used in multiple frauds\")\n",
    "print(\"- Need to maintain realistic reuse patterns\")\n",
    "\n",
    "print(\"\\n4. Validation Priorities:\")\n",
    "print(\"1. Purchase value distribution matching\")\n",
    "print(\"2. Realistic signup-to-purchase gaps\")\n",
    "print(\"3. Channel-specific fraud rates\")\n",
    "print(\"4. Device/IP reuse patterns\")\n",
    "print(\"5. Demographic consistency\")"
   ]
  },
  {
   "cell_type": "code",
   "execution_count": null,
   "metadata": {},
   "outputs": [],
   "source": []
  },
  {
   "cell_type": "markdown",
   "metadata": {},
   "source": []
  },
  {
   "cell_type": "code",
   "execution_count": 22,
   "metadata": {},
   "outputs": [
    {
     "name": "stdout",
     "output_type": "stream",
     "text": [
      "FINAL ANALYSIS FOR FRAUD ECOMMERCE DATASET:\n",
      "\n",
      "1. Predictive Power:\n",
      "\n",
      "Feature Importance (Mutual Information):\n",
      "       Feature  MI Score\n",
      "           age  0.002091\n",
      "purchase_value  0.001461\n",
      "\n",
      "Categorical Feature Strength:\n",
      "source: Fraud rate variation: 0.0086\n",
      "browser: Fraud rate variation: 0.0049\n",
      "sex: Fraud rate variation: 0.0032\n"
     ]
    }
   ],
   "source": [
    "from sklearn.feature_selection import mutual_info_classif\n",
    "import numpy as np\n",
    "\n",
    "print(\"FINAL ANALYSIS FOR FRAUD ECOMMERCE DATASET:\")\n",
    "\n",
    "# 1. Predictive Power Analysis\n",
    "print(\"\\n1. Predictive Power:\")\n",
    "# Prepare numerical features\n",
    "numerical_features = ['purchase_value', 'age']\n",
    "categorical_features = ['source', 'browser', 'sex']\n",
    "\n",
    "# Calculate mutual information scores for numerical features\n",
    "X_num = data_df[numerical_features]\n",
    "y = data_df['class']\n",
    "mi_scores = mutual_info_classif(X_num, y)\n",
    "mi_df = pd.DataFrame({'Feature': numerical_features, 'MI Score': mi_scores})\n",
    "mi_df = mi_df.sort_values('MI Score', ascending=False)\n",
    "\n",
    "print(\"\\nFeature Importance (Mutual Information):\")\n",
    "print(mi_df.to_string(index=False))\n",
    "\n",
    "print(\"\\nCategorical Feature Strength:\")\n",
    "for feature in categorical_features:\n",
    "    fraud_rates = data_df.groupby(feature)['class'].mean()\n",
    "    variation = fraud_rates.std()\n",
    "    print(f\"{feature}: Fraud rate variation: {variation:.4f}\")"
   ]
  },
  {
   "cell_type": "code",
   "execution_count": 23,
   "metadata": {},
   "outputs": [
    {
     "name": "stdout",
     "output_type": "stream",
     "text": [
      "\n",
      "2. Target Variable:\n",
      "Class Distribution:\n",
      "- Non-Fraud (0): 90.64%\n",
      "- Fraud (1): 9.36%\n",
      "Imbalance Ratio: 1:10.6\n"
     ]
    }
   ],
   "source": [
    "# 2. Target Variable Analysis\n",
    "print(\"\\n2. Target Variable:\")\n",
    "class_dist = data_df['class'].value_counts(normalize=True)\n",
    "print(f\"Class Distribution:\")\n",
    "print(f\"- Non-Fraud (0): {class_dist[0]:.2%}\")\n",
    "print(f\"- Fraud (1): {class_dist[1]:.2%}\")\n",
    "print(\"Imbalance Ratio: 1:10.6\")"
   ]
  },
  {
   "cell_type": "code",
   "execution_count": 24,
   "metadata": {},
   "outputs": [
    {
     "name": "stdout",
     "output_type": "stream",
     "text": [
      "\n",
      "3. Validation Strategy:\n",
      "Temporal Considerations:\n",
      "- Data spans: 2015-01-01 to 2015-12-16\n",
      "- Need to preserve temporal order\n",
      "\n",
      "Recommended Split:\n",
      "- 70% training (first 244 days)\n",
      "- 15% validation (next 52 days)\n",
      "- 15% test (final 53 days)\n",
      "\n",
      "Key Dependencies to Preserve:\n",
      "- User-Device-IP relationships\n",
      "- Temporal fraud patterns\n",
      "- Source-specific fraud rates\n"
     ]
    }
   ],
   "source": [
    "# 3. Validation Strategy\n",
    "print(\"\\n3. Validation Strategy:\")\n",
    "print(\"Temporal Considerations:\")\n",
    "print(f\"- Data spans: {data_df['signup_time'].min().date()} to {data_df['purchase_time'].max().date()}\")\n",
    "print(\"- Need to preserve temporal order\")\n",
    "print(\"\\nRecommended Split:\")\n",
    "print(\"- 70% training (first 244 days)\")\n",
    "print(\"- 15% validation (next 52 days)\")\n",
    "print(\"- 15% test (final 53 days)\")\n",
    "print(\"\\nKey Dependencies to Preserve:\")\n",
    "print(\"- User-Device-IP relationships\")\n",
    "print(\"- Temporal fraud patterns\")\n",
    "print(\"- Source-specific fraud rates\")\n"
   ]
  },
  {
   "cell_type": "code",
   "execution_count": 25,
   "metadata": {},
   "outputs": [
    {
     "name": "stdout",
     "output_type": "stream",
     "text": [
      "\n",
      "4. Data Leakage Risks:\n",
      "High-Risk Features:\n",
      "- user_id: Unique identifier (remove)\n",
      "- device_id: 8.7% reuse rate\n",
      "- ip_address: 5.0% reuse rate\n",
      "\n",
      "Temporal Leakage Prevention:\n",
      "- Ensure chronological splitting\n",
      "- No future information in feature engineering\n",
      "- Handle device/IP history carefully\n"
     ]
    }
   ],
   "source": [
    "# 4. Data Leakage Risks\n",
    "print(\"\\n4. Data Leakage Risks:\")\n",
    "print(\"High-Risk Features:\")\n",
    "print(\"- user_id: Unique identifier (remove)\")\n",
    "print(\"- device_id: {:.1%} reuse rate\".format(\n",
    "    1 - data_df['device_id'].nunique() / len(data_df)))\n",
    "print(\"- ip_address: {:.1%} reuse rate\".format(\n",
    "    1 - data_df['ip_address'].nunique() / len(data_df)))\n",
    "print(\"\\nTemporal Leakage Prevention:\")\n",
    "print(\"- Ensure chronological splitting\")\n",
    "print(\"- No future information in feature engineering\")\n",
    "print(\"- Handle device/IP history carefully\")"
   ]
  },
  {
   "cell_type": "code",
   "execution_count": 26,
   "metadata": {},
   "outputs": [
    {
     "name": "stdout",
     "output_type": "stream",
     "text": [
      "\n",
      "5. Interpretability:\n",
      "Key Interpretable Patterns:\n",
      "1. Channel-specific risks:\n",
      "   - Ads: 9.21% fraud rate\n",
      "   - Direct: 10.54% fraud rate\n",
      "   - SEO: 8.93% fraud rate\n",
      "\n",
      "2. Temporal patterns:\n",
      "   - Average signup to fraud: 28.1 days\n",
      "   - Average signup to legitimate: 60.1 days\n",
      "\n",
      "3. Demographic insights:\n",
      "   - Age range: 18 to 76 years\n",
      "   - Gender distribution in fraud cases: {'M': 0.596000282665536, 'F': 0.403999717334464}\n"
     ]
    }
   ],
   "source": [
    "# 5. Interpretability\n",
    "print(\"\\n5. Interpretability:\")\n",
    "print(\"Key Interpretable Patterns:\")\n",
    "print(\"1. Channel-specific risks:\")\n",
    "for source, rate in data_df.groupby('source')['class'].mean().items():\n",
    "    print(f\"   - {source}: {rate:.2%} fraud rate\")\n",
    "print(\"\\n2. Temporal patterns:\")\n",
    "print(f\"   - Average signup to fraud: {data_df[data_df['class']==1]['signup_to_purchase_minutes'].mean()/1440:.1f} days\")\n",
    "print(f\"   - Average signup to legitimate: {data_df[data_df['class']==0]['signup_to_purchase_minutes'].mean()/1440:.1f} days\")\n",
    "print(\"\\n3. Demographic insights:\")\n",
    "print(f\"   - Age range: {data_df['age'].min()} to {data_df['age'].max()} years\")\n",
    "print(f\"   - Gender distribution in fraud cases: {data_df[data_df['class']==1]['sex'].value_counts(normalize=True).to_dict()}\")"
   ]
  },
  {
   "cell_type": "code",
   "execution_count": 27,
   "metadata": {},
   "outputs": [
    {
     "name": "stdout",
     "output_type": "stream",
     "text": [
      "\n",
      "6. Limitations:\n",
      "Dataset Limitations:\n",
      "- Single year of data (2015)\n",
      "- Limited feature set (no transaction details)\n",
      "- No monetary value of fraud\n",
      "- Missing modern fraud patterns\n",
      "- No device fingerprinting\n",
      "- Limited location data\n"
     ]
    }
   ],
   "source": [
    "# 6. Limitations\n",
    "print(\"\\n6. Limitations:\")\n",
    "print(\"Dataset Limitations:\")\n",
    "print(\"- Single year of data (2015)\")\n",
    "print(\"- Limited feature set (no transaction details)\")\n",
    "print(\"- No monetary value of fraud\")\n",
    "print(\"- Missing modern fraud patterns\")\n",
    "print(\"- No device fingerprinting\")\n",
    "print(\"- Limited location data\")"
   ]
  }
 ],
 "metadata": {
  "kernelspec": {
   "display_name": "Env1",
   "language": "python",
   "name": "python3"
  },
  "language_info": {
   "codemirror_mode": {
    "name": "ipython",
    "version": 3
   },
   "file_extension": ".py",
   "mimetype": "text/x-python",
   "name": "python",
   "nbconvert_exporter": "python",
   "pygments_lexer": "ipython3",
   "version": "3.12.3"
  }
 },
 "nbformat": 4,
 "nbformat_minor": 2
}
